{
 "cells": [
  {
   "cell_type": "code",
   "execution_count": 1,
   "metadata": {
    "collapsed": true
   },
   "outputs": [],
   "source": [
    "%load_ext autoreload\n",
    "%autoreload 2\n",
    "\n",
    "import os, sys\n",
    "import pandas as pd\n",
    "import numpy as np\n",
    "import glob\n",
    "import pickle\n",
    "import pylab as plt\n",
    "import matplotlib\n",
    "from matplotlib.pyplot import get_cmap\n",
    "%matplotlib inline  \n",
    "from scipy.spatial.distance import cdist\n",
    "\n",
    "src_dir = os.path.abspath(os.path.join(os.pardir,'src'))\n",
    "sys.path[0] = src_dir\n",
    "\n"
   ]
  },
  {
   "cell_type": "code",
   "execution_count": null,
   "metadata": {
    "collapsed": true
   },
   "outputs": [],
   "source": []
  },
  {
   "cell_type": "code",
   "execution_count": 8,
   "metadata": {},
   "outputs": [
    {
     "name": "stderr",
     "output_type": "stream",
     "text": [
      "/home/martin/anaconda3/lib/python3.6/site-packages/matplotlib/__init__.py:913: UserWarning: text.fontsize is deprecated and replaced with font.size; please use the latter.\n",
      "  warnings.warn(self.msg_depr % (key, alt_key))\n"
     ]
    }
   ],
   "source": [
    "###########\n",
    "## Setup ##\n",
    "###########\n",
    "# number of pt for column in latex-document\n",
    "fig_width_pt = 480  # single-column:510, double-column: 246; Get this from LaTeX using \\showthe\\columnwidth\n",
    "inches_per_pt = 1.1/72.27 # Convert pt to inches\n",
    "width_vs_height = (np.sqrt(5)-1.0)/2.0 # Ratio of height/width [(np.sqrt(5)-1.0)/2.0]\n",
    "fig_width = fig_width_pt*inches_per_pt  # width in inches\n",
    "fig_height = width_vs_height*fig_width  # height in inches\n",
    "Ampl = 1.0 # Amplification factor for screen: set this to ONE for final plot of eps\n",
    "fig_size = [Ampl*fig_width,Ampl*fig_height]\n",
    "\n",
    "# here you can set the parameters of the plot (fontsizes,...) in pt\n",
    "params = {'backend': 'ps',\n",
    "          'axes.labelsize': Ampl*10,\n",
    "          'text.fontsize': Ampl*8,\n",
    "          'legend.fontsize': Ampl*6,\n",
    "          'xtick.labelsize': Ampl*8,\n",
    "          'ytick.labelsize': Ampl*8,\n",
    "          'text.usetex': True,\n",
    "          'ps.usedistiller' : 'xpdf',\n",
    "          'figure.figsize': fig_size,\n",
    "          #'figtext.fontsize': Ampl*10,\n",
    "          'text.latex.unicode':True,\n",
    "          'text.latex.preamble': [r'\\usepackage{bm}'],\n",
    "          'xtick.direction':'out',\n",
    "          'ytick.direction':'out'\n",
    "         }\n",
    "plt.rcParams.update(params)"
   ]
  },
  {
   "cell_type": "code",
   "execution_count": 9,
   "metadata": {
    "collapsed": true
   },
   "outputs": [],
   "source": [
    "x_bottom = 0.1\n",
    "x_left = 0.15\n",
    "x_right = 0.95\n",
    "x_top = 0.95\n",
    "x_h=0.15\n",
    "x_w=0.2"
   ]
  },
  {
   "cell_type": "code",
   "execution_count": null,
   "metadata": {
    "collapsed": true
   },
   "outputs": [],
   "source": []
  },
  {
   "cell_type": "code",
   "execution_count": null,
   "metadata": {
    "collapsed": true
   },
   "outputs": [],
   "source": []
  },
  {
   "cell_type": "code",
   "execution_count": 10,
   "metadata": {
    "collapsed": true
   },
   "outputs": [],
   "source": [
    "cmap = get_cmap('tab10')\n",
    "list_colors = ['#e66101','#5e3c99']"
   ]
  },
  {
   "cell_type": "code",
   "execution_count": null,
   "metadata": {
    "collapsed": true
   },
   "outputs": [],
   "source": []
  },
  {
   "cell_type": "code",
   "execution_count": null,
   "metadata": {
    "collapsed": true
   },
   "outputs": [],
   "source": []
  },
  {
   "cell_type": "markdown",
   "metadata": {},
   "source": [
    "## read age and gender"
   ]
  },
  {
   "cell_type": "code",
   "execution_count": 14,
   "metadata": {},
   "outputs": [
    {
     "data": {
      "image/png": "[encoded data removed]",
      "text/plain": [
       "<matplotlib.figure.Figure at 0x7f0891056d30>"
      ]
     },
     "metadata": {},
     "output_type": "display_data"
    }
   ],
   "source": [
    "fig = plt.figure(figsize=fig_size)\n",
    "plt.clf()\n",
    "\n",
    "#####################################################\n",
    "## Load data\n",
    "path_read = '../data_filter/'\n",
    "fname_read = 'df_demo_ipip300-no0.csv'\n",
    "filename = os.path.join(path_read,fname_read)\n",
    "df = pd.read_csv(filename,index_col=0).dropna()\n",
    "\n",
    "#     df['age']=df['age'].replace(np.nan,80)\n",
    "#     df['gender']=df['gender'].replace(np.nan,2)\n",
    "\n",
    "list_g = np.array([0,1])\n",
    "list_a = np.arange(11,134,5)\n",
    "\n",
    "delta_a = list_a[1]-list_a[0]\n",
    "\n",
    "arr_g = np.array(df['gender'].values).astype('float')\n",
    "arr_a = df['age'].values\n",
    "N = len(arr_a)\n",
    "\n",
    "list_arr_ga = []\n",
    "n_tot = 0\n",
    "for g in list_g:\n",
    "    inds_g_sel = np.where(arr_g==g)[0]\n",
    "    arr_a_sel = arr_a[inds_g_sel]\n",
    "    list_n_ga = []\n",
    "    for i_a in range(len(list_a)-1):\n",
    "        a1 = list_a[i_a]\n",
    "        a2 = list_a[i_a+1]\n",
    "        n_ga = np.sum( (arr_a_sel>=a1)*(arr_a_sel<a2)   )\n",
    "        list_n_ga+=[n_ga]\n",
    "        n_tot += n_ga\n",
    "    list_arr_ga += [np.array(list_n_ga)]\n",
    "ax = fig.add_subplot(1,1,1 )\n",
    "list_labels = ['Male','Female','N/A']\n",
    "list_colors = ['#e66101','#5e3c99','#4daf4a']\n",
    "for i_g,arr_ga in enumerate(list_arr_ga):\n",
    "    x = list_a[:-1]\n",
    "    y = arr_ga/float(n_tot)# \n",
    "\n",
    "    dx = 1.25\n",
    "    xshift = delta_a/3+(i_g-0.33)*dx\n",
    "\n",
    "    ax.bar(x+xshift,y,label=list_labels[i_g],\\\n",
    "           color = list_colors[i_g],width=dx)\n",
    "\n",
    "\n",
    "\n",
    "\n",
    "## xticks labels\n",
    "ax.set_xticks(list_a,minor=True)\n",
    "ax.set_xticks(list_a[::2])\n",
    "ax.set_xticklabels([r'$%s$'%(h) for h in [11,21,31,41,51,61,71]])\n",
    "\n",
    "ax.set_xlim(10,75)  \n",
    "ax.set_ylim(0,0.25)\n",
    "plt.legend(frameon=False)\n",
    "plt.subplots_adjust(left=x_left,bottom=x_bottom,right=x_right,top=x_top,hspace=x_h,wspace=x_w)\n",
    "\n"
   ]
  },
  {
   "cell_type": "code",
   "execution_count": null,
   "metadata": {
    "collapsed": true
   },
   "outputs": [],
   "source": []
  }
 ],
 "metadata": {
  "kernelspec": {
   "display_name": "Python 3",
   "language": "python",
   "name": "python3"
  },
  "language_info": {
   "codemirror_mode": {
    "name": "ipython",
    "version": 3
   },
   "file_extension": ".py",
   "mimetype": "text/x-python",
   "name": "python",
   "nbconvert_exporter": "python",
   "pygments_lexer": "ipython3",
   "version": "3.6.1"
  }
 },
 "nbformat": 4,
 "nbformat_minor": 1
}
