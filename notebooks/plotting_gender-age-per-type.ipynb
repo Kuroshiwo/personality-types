{
 "cells": [
  {
   "cell_type": "code",
   "execution_count": 1,
   "metadata": {
    "collapsed": true
   },
   "outputs": [],
   "source": [
    "%load_ext autoreload\n",
    "%autoreload 2\n",
    "\n",
    "import os, sys\n",
    "import pandas as pd\n",
    "import numpy as np\n",
    "import glob\n",
    "import pickle\n",
    "import pylab as plt\n",
    "import matplotlib\n",
    "from matplotlib.pyplot import get_cmap\n",
    "%matplotlib inline  \n",
    "from scipy.spatial.distance import cdist\n",
    "\n",
    "src_dir = os.path.abspath(os.path.join(os.pardir,'src'))\n",
    "sys.path[0] = src_dir\n",
    "\n"
   ]
  },
  {
   "cell_type": "code",
   "execution_count": null,
   "metadata": {
    "collapsed": true
   },
   "outputs": [],
   "source": []
  },
  {
   "cell_type": "code",
   "execution_count": 11,
   "metadata": {},
   "outputs": [
    {
     "name": "stderr",
     "output_type": "stream",
     "text": [
      "/home/martin/anaconda3/lib/python3.6/site-packages/matplotlib/__init__.py:913: UserWarning: text.fontsize is deprecated and replaced with font.size; please use the latter.\n",
      "  warnings.warn(self.msg_depr % (key, alt_key))\n"
     ]
    }
   ],
   "source": [
    "###########\n",
    "## Setup ##\n",
    "###########\n",
    "# number of pt for column in latex-document\n",
    "fig_width_pt = 480  # single-column:510, double-column: 246; Get this from LaTeX using \\showthe\\columnwidth\n",
    "inches_per_pt = 1.1/72.27 # Convert pt to inches\n",
    "width_vs_height = 4*0.66 # Ratio of height/width [(np.sqrt(5)-1.0)/2.0]\n",
    "fig_width = fig_width_pt*inches_per_pt  # width in inches\n",
    "fig_height = width_vs_height*fig_width  # height in inches\n",
    "Ampl = 1.0 # Amplification factor for screen: set this to ONE for final plot of eps\n",
    "fig_size = [Ampl*fig_width,Ampl*fig_height]\n",
    "\n",
    "# here you can set the parameters of the plot (fontsizes,...) in pt\n",
    "params = {'backend': 'ps',\n",
    "          'axes.labelsize': Ampl*10,\n",
    "          'text.fontsize': Ampl*8,\n",
    "          'legend.fontsize': Ampl*6,\n",
    "          'xtick.labelsize': Ampl*8,\n",
    "          'ytick.labelsize': Ampl*8,\n",
    "          'text.usetex': True,\n",
    "          'ps.usedistiller' : 'xpdf',\n",
    "          'figure.figsize': fig_size,\n",
    "          #'figtext.fontsize': Ampl*10,\n",
    "          'text.latex.unicode':True,\n",
    "          'text.latex.preamble': [r'\\usepackage{bm}'],\n",
    "          'xtick.direction':'out',\n",
    "          'ytick.direction':'out'\n",
    "         }\n",
    "plt.rcParams.update(params)"
   ]
  },
  {
   "cell_type": "code",
   "execution_count": 12,
   "metadata": {
    "collapsed": true
   },
   "outputs": [],
   "source": [
    "x_bottom = 0.1\n",
    "x_left = 0.15\n",
    "x_right = 0.95\n",
    "x_top = 0.95\n",
    "x_h=0.15\n",
    "x_w=0.2"
   ]
  },
  {
   "cell_type": "code",
   "execution_count": null,
   "metadata": {
    "collapsed": true
   },
   "outputs": [],
   "source": []
  },
  {
   "cell_type": "markdown",
   "metadata": {},
   "source": [
    "# Load data & Plot the data"
   ]
  },
  {
   "cell_type": "code",
   "execution_count": 14,
   "metadata": {
    "collapsed": true
   },
   "outputs": [],
   "source": [
    "cmap = get_cmap('tab10')\n",
    "list_colors = ['#e66101','#5e3c99']\n",
    "\n",
    "\n"
   ]
  },
  {
   "cell_type": "code",
   "execution_count": 17,
   "metadata": {},
   "outputs": [
    {
     "name": "stderr",
     "output_type": "stream",
     "text": [
      "/home/martin/anaconda3/lib/python3.6/site-packages/ipykernel_launcher.py:126: RuntimeWarning: divide by zero encountered in log\n",
      "/home/martin/anaconda3/lib/python3.6/site-packages/ipykernel_launcher.py:127: RuntimeWarning: divide by zero encountered in true_divide\n",
      "/home/martin/anaconda3/lib/python3.6/site-packages/ipykernel_launcher.py:127: RuntimeWarning: invalid value encountered in multiply\n",
      "/home/martin/anaconda3/lib/python3.6/site-packages/ipykernel_launcher.py:120: RuntimeWarning: invalid value encountered in true_divide\n",
      "/home/martin/anaconda3/lib/python3.6/site-packages/ipykernel_launcher.py:121: RuntimeWarning: invalid value encountered in true_divide\n"
     ]
    },
    {
     "data": {
      "image/png": "[encoded data removed]",
      "text/plain": [
       "<matplotlib.figure.Figure at 0x7f0c26aaee10>"
      ]
     },
     "metadata": {},
     "output_type": "display_data"
    }
   ],
   "source": [
    "fig = plt.figure(figsize=fig_size)\n",
    "plt.clf()\n",
    "#########################################################\n",
    "## data on gender and age\n",
    "path_read = '../data_filter/'\n",
    "fname_read = 'df_demo_ipip300-no0.csv'\n",
    "filename = os.path.join(path_read,fname_read)\n",
    "df = pd.read_csv(filename,index_col=0).dropna()\n",
    "\n",
    "arr_g = np.array(df['gender'].values).astype('float')\n",
    "arr_a = df['age'].values\n",
    "N = len(arr_a)\n",
    "\n",
    "list_g = np.array([0,1])\n",
    "list_a = np.arange(10,105,5)\n",
    "delta_a = list_a[1]-list_a[0]\n",
    "\n",
    "## get the global stats\n",
    "## distribution of age and gender\n",
    "list_arr_p_ga = []\n",
    "list_arr_n_ga = []\n",
    "\n",
    "for g in list_g:\n",
    "    inds_g_sel = np.where(arr_g==g)[0]\n",
    "    arr_a_sel = arr_a[inds_g_sel]\n",
    "    list_n_ga = []\n",
    "    for i_a in range(len(list_a)-1):\n",
    "        a1 = list_a[i_a]\n",
    "        a2 = list_a[i_a+1]\n",
    "        n_ga = np.sum( (arr_a_sel>=a1)*(arr_a_sel<a2)   )\n",
    "        list_n_ga+=[n_ga]\n",
    "    list_arr_p_ga += [np.array(list_n_ga)/N]\n",
    "    list_arr_n_ga += [list_n_ga]\n",
    "\n",
    "#########################################################\n",
    "### Load position of people in trait space\n",
    "path_read = '../data_filter/'\n",
    "fname_read = 'ipip300-no0_arr_pd_neoac_score-1.npy'\n",
    "filename = os.path.join(path_read,fname_read)\n",
    "\n",
    "arr_pd = np.load(filename)\n",
    "N_,D_ = np.shape(arr_pd)\n",
    "## z-score data\n",
    "for d in range(D_):\n",
    "    x_tmp = arr_pd[:,d]\n",
    "    x_mu = np.mean(x_tmp)\n",
    "    x_std = np.std(x_tmp)\n",
    "    arr_pd[:,d] = (x_tmp - x_mu)/x_std\n",
    "\n",
    "    \n",
    "    \n",
    "    \n",
    "#####################################################\n",
    "## cluster-positions as described in paper\n",
    "\n",
    "c_names = ['``Average\"','``Self-centered\"','``Reserved\"',' ``Role Model\" ']\n",
    "arr_cd_dom = np.zeros((4,5))\n",
    "arr_cd_dom[0,:] = np.array([ 0.55,0.51,-0.60,0.25,0.25 ])\n",
    "arr_cd_dom[1,:] = np.array([ -0.23,0.70,-0.75,-0.56,-0.44 ])\n",
    "arr_cd_dom[2,:] = np.array([ -0.54,-0.07,-0.77,0.12,0.19 ])\n",
    "arr_cd_dom[3,:] = np.array([ -0.70,0.52,0.23,0.62,0.78 ])\n",
    "\n",
    "\n",
    "## distance of each person to each cluster\n",
    "S = cdist(arr_pd,arr_cd_dom)\n",
    "\n",
    "\n",
    "###################################################\n",
    "## plot\n",
    "D_crit = np.sqrt(5)\n",
    "D_crit = 1.5\n",
    "\n",
    "\n",
    "\n",
    "\n",
    "for i_n in range(4):\n",
    "\n",
    "    list_arr_n_ga_sel = []\n",
    "    list_arr_n_ga_sel_null_mu = []\n",
    "    list_arr_n_ga_sel_null_sigma = []\n",
    "\n",
    "    ## number of people around the cluster center with distance <= D_crit\n",
    "    arr_D_pc = S[:,i_n]\n",
    "    ind_sel = np.where( arr_D_pc <= D_crit )[0]\n",
    "    N_sel = len(ind_sel)\n",
    "    for i_g,g in enumerate(list_g):\n",
    "        inds_g_sel = np.where( (arr_g==g)&(arr_D_pc <= D_crit) )[0]\n",
    "        arr_a_sel = arr_a[inds_g_sel]\n",
    "        list_n_ga = []\n",
    "        for i_a in range(len(list_a)-1):\n",
    "            a1 = list_a[i_a]\n",
    "            a2 = list_a[i_a+1]\n",
    "            n_ga = np.sum( (arr_a_sel>=a1)*(arr_a_sel<a2)   )\n",
    "            list_n_ga+=[n_ga]\n",
    "\n",
    "\n",
    "        ## observed number of people in cluster with g and a\n",
    "        arr_n_ga = np.array(list_n_ga)\n",
    "        list_arr_n_ga_sel += [arr_n_ga]\n",
    "        ## expected number of people in cluster with g and a\n",
    "        ## drawing N_sel people with global probability of g and a\n",
    "        arr_p_ga_null = list_arr_p_ga[i_g]\n",
    "        arr_n_ga_null_mu = N_sel*arr_p_ga_null\n",
    "\n",
    "        arr_n_ga_null_sigma = np.sqrt(N_sel*arr_p_ga_null*(1.0-arr_p_ga_null) )\n",
    "        list_arr_n_ga_sel_null_mu += [arr_n_ga_null_mu]\n",
    "        list_arr_n_ga_sel_null_sigma += [arr_n_ga_null_sigma]      \n",
    "\n",
    "    ax = fig.add_subplot(4,1,  i_n+1 )\n",
    "\n",
    "\n",
    "    list_labels = ['Male','Female']\n",
    "    baseline=0\n",
    "    for i_g,arr_ga in enumerate(list_arr_n_ga_sel):\n",
    "        arr_ga_null_mu = list_arr_n_ga_sel_null_mu[i_g]\n",
    "        arr_ga_null_sigma = list_arr_n_ga_sel_null_sigma[i_g]\n",
    "\n",
    "\n",
    "        x = list_a[:-1]\n",
    "        y = arr_ga/arr_ga_null_mu\n",
    "        yerr = arr_ga/(arr_ga_null_mu**2)*arr_ga_null_sigma\n",
    "\n",
    "        dx = 1.5\n",
    "        xshift = delta_a/2+(i_g-0.5)*dx\n",
    "        X = x+xshift\n",
    "        Y = np.log(y-baseline)\n",
    "        Z = 1.0/y*yerr\n",
    "        ax.bar(X,Y,yerr=Z,label=list_labels[i_g],\\\n",
    "               color = list_colors[i_g],width=1.5,bottom=baseline)\n",
    "\n",
    "    ## xticks labels\n",
    "    ax.set_xticks(list_a,minor=True)\n",
    "    ax.set_xticks(list_a[::2])\n",
    "    if i_n ==3:\n",
    "        ax.set_xlabel(r'Age')\n",
    "        ax.set_xticklabels([r'$%s$'%(h) for h in [11,21,31,41,51,61,71]])\n",
    "    else:\n",
    "        ax.set_xticklabels([])\n",
    "#             ax.set_xticklabels(['' for h in list_a])\n",
    "    ax.set_xlim(10,75)  \n",
    "\n",
    "    ## yticklabels\n",
    "    list_y_ = [1/5.0,1.0/2,1,2.0,5.0]\n",
    "    list_y_str = [r'$1/5$',r'$1/2$',r'$1$',r'$2$',r'$5$']\n",
    "    list_y  = np.log(np.array( list_y_))\n",
    "\n",
    "    ax.set_ylim(min(list_y),max(list_y))\n",
    "    ax.set_yticks(list_y)\n",
    "    ax.set_yticklabels([str(h) for h in list_y_str])\n",
    "\n",
    "    ax.set_ylabel('Rel. frequ. (%s)'%(c_names[i_n]))\n",
    "\n",
    "        \n",
    "\n",
    "\n",
    "#         ax.set_title(r'Cluster %s'%(i_n+1))\n",
    "    c_ = cmap(i_n)\n",
    "plt.subplots_adjust(left=x_left,bottom=x_bottom,right=x_right,top=x_top,hspace=x_h,wspace=x_w)\n"
   ]
  },
  {
   "cell_type": "code",
   "execution_count": null,
   "metadata": {},
   "outputs": [],
   "source": []
  },
  {
   "cell_type": "code",
   "execution_count": null,
   "metadata": {
    "collapsed": true
   },
   "outputs": [],
   "source": []
  }
 ],
 "metadata": {
  "kernelspec": {
   "display_name": "Python 3",
   "language": "python",
   "name": "python3"
  },
  "language_info": {
   "codemirror_mode": {
    "name": "ipython",
    "version": 3
   },
   "file_extension": ".py",
   "mimetype": "text/x-python",
   "name": "python",
   "nbconvert_exporter": "python",
   "pygments_lexer": "ipython3",
   "version": "3.6.1"
  }
 },
 "nbformat": 4,
 "nbformat_minor": 1
}
