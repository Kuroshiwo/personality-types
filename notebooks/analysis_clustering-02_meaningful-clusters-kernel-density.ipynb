{
 "cells": [
  {
   "cell_type": "markdown",
   "metadata": {},
   "source": [
    "We fit a gaussian mixture model with a fixed number of clusters; we then estimate for each cluster the kerneldensity and compare it with the kerneldensity at the same point in a randomized dataset."
   ]
  },
  {
   "cell_type": "code",
   "execution_count": 1,
   "metadata": {},
   "outputs": [],
   "source": [
    "%load_ext autoreload\n",
    "%autoreload 2\n",
    "\n",
    "import os, sys\n",
    "import pandas as pd\n",
    "import numpy as np\n",
    "import glob\n",
    "\n",
    "import pylab as plt\n",
    "from matplotlib.pyplot import get_cmap\n",
    "%matplotlib inline  \n",
    "\n",
    "src_dir = os.path.abspath(os.path.join(os.pardir,'src'))\n",
    "sys.path[0] = src_dir\n",
    "\n",
    "from analysis.cluster_density import gmm_kd\n",
    "from analysis.data_sample import get_subset\n",
    "from analysis.density import rho_pval,rho_eff"
   ]
  },
  {
   "cell_type": "markdown",
   "metadata": {},
   "source": [
    "# Load data and setup"
   ]
  },
  {
   "cell_type": "code",
   "execution_count": 2,
   "metadata": {
    "collapsed": true
   },
   "outputs": [],
   "source": [
    "# factor scores\n",
    "path_read = os.path.join(src_dir,os.pardir,'data_filter')\n",
    "fname_read = 'ipip300-no0_arr_pd_neoac_score-1.npy'\n",
    "filename = os.path.join(path_read,fname_read)\n",
    "arr_pd =  np.load(filename)\n",
    "\n",
    "# parameters for fitting\n",
    "n_rep = 10 # number of different initial conditions for optimization\n",
    "Nc = 13 # this is the number we found in the paper\n",
    "n_rep_kd = 1000 # number of randomizations for estaimting density \n",
    "bw = -1 # bandwidth for density estimation (-1, estimate from avg nearest-neighbor distance)\n",
    "N_samples = 10000 # number of pairs of n.n. for estimating bandwidth \n"
   ]
  },
  {
   "cell_type": "code",
   "execution_count": 3,
   "metadata": {
    "collapsed": true
   },
   "outputs": [],
   "source": [
    "#####\n",
    "# z-score the data in each dimension\n",
    "#####\n",
    "N_,D_ = np.shape(arr_pd)\n",
    "for d in range(D_):\n",
    "    x_tmp = arr_pd[:,d]\n",
    "    x_mu = np.mean(x_tmp)\n",
    "    x_std = np.std(x_tmp)\n",
    "    arr_pd[:,d] = (x_tmp - x_mu)/x_std\n",
    "\n",
    "#####\n",
    "# get a random subset to reduce processing time\n",
    "# use line above if you want to fit the whole dataset\n",
    "#####\n",
    "arr_x = 1.0*arr_pd#\n",
    "# arr_x = get_subset(arr_pd,10000) \n"
   ]
  },
  {
   "cell_type": "markdown",
   "metadata": {
    "collapsed": true
   },
   "source": [
    "# Fit"
   ]
  },
  {
   "cell_type": "code",
   "execution_count": 4,
   "metadata": {},
   "outputs": [],
   "source": [
    "## fit the gmm\n",
    "dict_result = gmm_kd(Nc,arr_x,n_rep,n_rep_kd, bw = bw, N_samples = N_samples)"
   ]
  },
  {
   "cell_type": "code",
   "execution_count": 5,
   "metadata": {},
   "outputs": [],
   "source": [
    "\n",
    "## the cluster centers\n",
    "arr_cd = dict_result['cluster']\n",
    "\n",
    "\n",
    "\n",
    "\n",
    "arr_rho = dict_result['rho'] ## density for each cluster in original dataset\n",
    "arr_rho_rand = dict_result['rho_rand'] ## density for each cluster in randomized dataset\n",
    "\n",
    "## the p-value and the enrichment for the kerneldensity \n",
    "## in comparison to kd in randomimzed datat\n",
    "arr_rho_eff = rho_eff(arr_rho,arr_rho_rand)\n",
    "arr_rho_pval = rho_pval(arr_rho,arr_rho_rand)"
   ]
  },
  {
   "cell_type": "code",
   "execution_count": 6,
   "metadata": {},
   "outputs": [
    {
     "name": "stdout",
     "output_type": "stream",
     "text": [
      "Cluster 1 \n",
      "N:-0.41 | E:-0.58 | O:-0.03 | A:-1.72 | C:0.60\n",
      "p-value:1.00 | enrichment:0.74\n",
      "---\n",
      "Cluster 2 \n",
      "N:-0.83 | E:0.47 | O:0.41 | A:0.28 | C:0.71\n",
      "p-value:0.00 | enrichment:1.42\n",
      "---\n",
      "Cluster 3 \n",
      "N:0.84 | E:-0.31 | O:-0.56 | A:-0.08 | C:0.94\n",
      "p-value:0.56 | enrichment:0.99\n",
      "---\n",
      "Cluster 4 \n",
      "N:0.13 | E:0.45 | O:-0.43 | A:0.64 | C:0.35\n",
      "p-value:0.00 | enrichment:1.50\n",
      "---\n",
      "Cluster 5 \n",
      "N:0.79 | E:-0.84 | O:0.37 | A:0.77 | C:-0.67\n",
      "p-value:0.10 | enrichment:1.09\n",
      "---\n",
      "Cluster 6 \n",
      "N:0.32 | E:0.15 | O:0.87 | A:-1.11 | C:-0.63\n",
      "p-value:0.97 | enrichment:0.88\n",
      "---\n",
      "Cluster 7 \n",
      "N:0.31 | E:-0.63 | O:0.91 | A:0.24 | C:0.51\n",
      "p-value:1.00 | enrichment:0.87\n",
      "---\n",
      "Cluster 8 \n",
      "N:0.80 | E:-0.52 | O:-0.85 | A:-0.12 | C:-0.65\n",
      "p-value:0.03 | enrichment:1.12\n",
      "---\n",
      "Cluster 9 \n",
      "N:-0.93 | E:-1.07 | O:0.29 | A:-0.08 | C:-0.56\n",
      "p-value:0.94 | enrichment:0.91\n",
      "---\n",
      "Cluster 10 \n",
      "N:-0.50 | E:0.53 | O:0.57 | A:0.49 | C:-0.70\n",
      "p-value:0.68 | enrichment:0.98\n",
      "---\n",
      "Cluster 11 \n",
      "N:-0.62 | E:-0.19 | O:-0.77 | A:0.17 | C:0.24\n",
      "p-value:0.00 | enrichment:1.51\n",
      "---\n",
      "Cluster 12 \n",
      "N:0.90 | E:0.90 | O:0.46 | A:-0.05 | C:0.02\n",
      "p-value:0.36 | enrichment:1.02\n",
      "---\n",
      "Cluster 13 \n",
      "N:-0.19 | E:0.66 | O:-0.77 | A:-0.44 | C:-0.32\n",
      "p-value:0.00 | enrichment:1.53\n",
      "---\n"
     ]
    }
   ],
   "source": [
    "for i_Nc in range(Nc):\n",
    "    print('Cluster %s '%(i_Nc+1))\n",
    "    print('N:%.2f | E:%.2f | O:%.2f | A:%.2f | C:%.2f'%\n",
    "          (arr_cd[i_Nc,0],arr_cd[i_Nc,1],arr_cd[i_Nc,2],arr_cd[i_Nc,3],arr_cd[i_Nc,4]) )\n",
    "    print('p-value:%.2f | enrichment:%.2f'%\n",
    "          (arr_rho_pval[i_Nc],arr_rho_eff[i_Nc]))\n",
    "    print('---')"
   ]
  },
  {
   "cell_type": "markdown",
   "metadata": {},
   "source": [
    "# Plot the result\n",
    "\n",
    "for each cluster we plot the p-value and the enrichment"
   ]
  },
  {
   "cell_type": "code",
   "execution_count": 8,
   "metadata": {},
   "outputs": [
    {
     "data": {
      "text/plain": [
       "<matplotlib.text.Text at 0x7f9b9e0b3358>"
      ]
     },
     "execution_count": 8,
     "metadata": {},
     "output_type": "execute_result"
    },
    {
     "data": {
      "image/png": "[encoded data removed]",
      "text/plain": [
       "<matplotlib.figure.Figure at 0x7f9b9e0dba58>"
      ]
     },
     "metadata": {},
     "output_type": "display_data"
    }
   ],
   "source": [
    "pval_crit = 0.01\n",
    "eff_crit = 1.25\n",
    "cmap = get_cmap('tab10')\n",
    "c_ = cmap(1)\n",
    "c_shade=str(0.8)\n",
    "cmap = get_cmap('tab10')\n",
    "\n",
    "\n",
    "f = plt.figure()\n",
    "\n",
    "ax = f.add_subplot(111)\n",
    "x = np.log10(arr_rho_eff + 0.0*np.random.random(size=len(arr_rho_eff))   ) \n",
    "y = np.log10(arr_rho_pval)\n",
    "ax.plot(x,y,ms=3,lw=0,marker='x',color=c_)\n",
    "# ax.fill_between(x,0.001+0.0*x,1.0+0.0*x,where=y<=pval_crit,color=c_shade)\n",
    "# ax.set_yscale('log')\n",
    "\n",
    "#     xmin = 0.\n",
    "xmax = np.log10(2.)\n",
    "xmin=-xmax\n",
    "\n",
    "ymin = -4.5\n",
    "ymax=0.5\n",
    "x = np.linspace(xmin,xmax,10)\n",
    "y = np.log10(pval_crit)+0.0*x\n",
    "ax.plot(x,y,ms=0,lw=1,ls=':',marker='o',color='black')\n",
    "\n",
    "x = [np.log10(eff_crit),np.log10(eff_crit)]\n",
    "y = [ymin,ymax]\n",
    "ax.plot(x,y,ms=0,lw=1,ls=':',marker='o',color='black')\n",
    "\n",
    "x = [0,0]\n",
    "y = [ymin,ymax]\n",
    "ax.plot(x,y,ms=0,lw=1,ls='-',marker='o',color=str(0.5))#,alpha=0.5)\n",
    "\n",
    "x = np.linspace(np.log10(eff_crit),xmax,10)\n",
    "y1 = ymin + 0.0*x\n",
    "y2 = np.log10(pval_crit) + 0.0*x\n",
    "ax.fill_between(x,y1,y2,color=c_shade)\n",
    "\n",
    "# # ax.set_xlabel(r'cluster index')\n",
    "ax.set_ylabel(r'$\\log_{10}$ $p$-value')\n",
    "# ax.set_yscale('log')\n",
    "\n",
    "x_marks = np.log10( np.array([0.5,0.8, 1., 1.25,2.]) )\n",
    "x_labels = ['0.5','0.8','1','1.25','2']\n",
    "ax.set_xticks(x_marks)\n",
    "ax.set_xticklabels(x_labels)\n",
    "# ax.set_xticklabels([])\n",
    "ax.set_yticks([-4,-3,-2,-1,0])\n",
    "# ax.set_yticklabels([r'$-3$',r'$-2$',r'$-1$',r'$0$'])\n",
    "ax.set_ylim(-4.5,0.5)\n",
    "ax.set_xlim(xmin,xmax)\n",
    "\n",
    "\n",
    "\n",
    "#     ax.locator_params(axis = 'x',nbins=5)\n",
    "ax.set_xlabel(r'Enrichment, $\\rho/\\langle \\tilde{\\rho} \\rangle$',labelpad=3)\n"
   ]
  },
  {
   "cell_type": "code",
   "execution_count": null,
   "metadata": {
    "collapsed": true
   },
   "outputs": [],
   "source": []
  }
 ],
 "metadata": {
  "kernelspec": {
   "display_name": "Python 3",
   "language": "python",
   "name": "python3"
  },
  "language_info": {
   "codemirror_mode": {
    "name": "ipython",
    "version": 3
   },
   "file_extension": ".py",
   "mimetype": "text/x-python",
   "name": "python",
   "nbconvert_exporter": "python",
   "pygments_lexer": "ipython3",
   "version": "3.6.1"
  }
 },
 "nbformat": 4,
 "nbformat_minor": 1
}
