{
 "cells": [
  {
   "cell_type": "code",
   "execution_count": 21,
   "metadata": {},
   "outputs": [
    {
     "name": "stdout",
     "output_type": "stream",
     "text": [
      "The autoreload extension is already loaded. To reload it, use:\n",
      "  %reload_ext autoreload\n"
     ]
    }
   ],
   "source": [
    "%load_ext autoreload\n",
    "%autoreload 2\n",
    "\n",
    "import os, sys\n",
    "import pandas as pd\n",
    "import numpy as np\n",
    "import glob\n",
    "\n",
    "import pylab as plt\n",
    "from matplotlib.pyplot import get_cmap\n",
    "%matplotlib inline  \n",
    "\n",
    "src_dir = os.path.abspath(os.path.join(os.pardir,'src'))\n",
    "sys.path[0] = src_dir\n",
    "\n",
    "from analysis.factor_analysis import rotated_scaled_fa"
   ]
  },
  {
   "cell_type": "markdown",
   "metadata": {},
   "source": [
    "# Load the person-dimension data"
   ]
  },
  {
   "cell_type": "code",
   "execution_count": 2,
   "metadata": {
    "collapsed": true
   },
   "outputs": [],
   "source": [
    "Q = 300 #\n",
    "\n",
    "# number of components\n",
    "n_comp = 5"
   ]
  },
  {
   "cell_type": "markdown",
   "metadata": {},
   "source": [
    "# Read the Scoring Key"
   ]
  },
  {
   "cell_type": "markdown",
   "metadata": {
    "collapsed": true
   },
   "source": [
    "We generate a dataframe showing the relation between each question and domain"
   ]
  },
  {
   "cell_type": "code",
   "execution_count": 10,
   "metadata": {
    "collapsed": true
   },
   "outputs": [],
   "source": [
    "list_doms = ['N','E','O','A','C']\n",
    "\n",
    "path_read = os.path.join(os.pardir,'data_filter')\n",
    "fname_read = 'IPIP%d_questions_domains.txt'%(Q)\n",
    "filename = os.path.join(path_read,fname_read)\n",
    "with open(filename,'r') as f:\n",
    "    x = f.readlines()\n",
    "list_q = [h.split()[0] for h in x]\n",
    "list_d = [h.split()[1] for h in x]\n",
    "\n",
    "df_qd = pd.DataFrame(index=list_q,columns=list_doms)\n",
    "for i_q,q in enumerate(list_q):\n",
    "    d = list_d[i_q]\n",
    "    df_qd.loc[q,d]=1"
   ]
  },
  {
   "cell_type": "code",
   "execution_count": 11,
   "metadata": {},
   "outputs": [
    {
     "data": {
      "text/plain": [
       "['Q_1',\n",
       " 'Q_2',\n",
       " 'Q_3',\n",
       " 'Q_4',\n",
       " 'Q_5',\n",
       " 'Q_6',\n",
       " 'Q_7',\n",
       " 'Q_8',\n",
       " 'Q_9',\n",
       " 'Q_10',\n",
       " 'Q_11',\n",
       " 'Q_12',\n",
       " 'Q_13',\n",
       " 'Q_14',\n",
       " 'Q_15',\n",
       " 'Q_16',\n",
       " 'Q_17',\n",
       " 'Q_18',\n",
       " 'Q_19',\n",
       " 'Q_20',\n",
       " 'Q_21',\n",
       " 'Q_22',\n",
       " 'Q_23',\n",
       " 'Q_24',\n",
       " 'Q_25',\n",
       " 'Q_26',\n",
       " 'Q_27',\n",
       " 'Q_28',\n",
       " 'Q_29',\n",
       " 'Q_30',\n",
       " 'Q_31',\n",
       " 'Q_32',\n",
       " 'Q_33',\n",
       " 'Q_34',\n",
       " 'Q_35',\n",
       " 'Q_36',\n",
       " 'Q_37',\n",
       " 'Q_38',\n",
       " 'Q_39',\n",
       " 'Q_40',\n",
       " 'Q_41',\n",
       " 'Q_42',\n",
       " 'Q_43',\n",
       " 'Q_44',\n",
       " 'Q_45',\n",
       " 'Q_46',\n",
       " 'Q_47',\n",
       " 'Q_48',\n",
       " 'Q_49',\n",
       " 'Q_50',\n",
       " 'Q_51',\n",
       " 'Q_52',\n",
       " 'Q_53',\n",
       " 'Q_54',\n",
       " 'Q_55',\n",
       " 'Q_56',\n",
       " 'Q_57',\n",
       " 'Q_58',\n",
       " 'Q_59',\n",
       " 'Q_60',\n",
       " 'Q_61',\n",
       " 'Q_62',\n",
       " 'Q_63',\n",
       " 'Q_64',\n",
       " 'Q_65',\n",
       " 'Q_66',\n",
       " 'Q_67',\n",
       " 'Q_68',\n",
       " 'Q_69',\n",
       " 'Q_70',\n",
       " 'Q_71',\n",
       " 'Q_72',\n",
       " 'Q_73',\n",
       " 'Q_74',\n",
       " 'Q_75',\n",
       " 'Q_76',\n",
       " 'Q_77',\n",
       " 'Q_78',\n",
       " 'Q_79',\n",
       " 'Q_80',\n",
       " 'Q_81',\n",
       " 'Q_82',\n",
       " 'Q_83',\n",
       " 'Q_84',\n",
       " 'Q_85',\n",
       " 'Q_86',\n",
       " 'Q_87',\n",
       " 'Q_88',\n",
       " 'Q_89',\n",
       " 'Q_90',\n",
       " 'Q_91',\n",
       " 'Q_92',\n",
       " 'Q_93',\n",
       " 'Q_94',\n",
       " 'Q_95',\n",
       " 'Q_96',\n",
       " 'Q_97',\n",
       " 'Q_98',\n",
       " 'Q_99',\n",
       " 'Q_100',\n",
       " 'Q_101',\n",
       " 'Q_102',\n",
       " 'Q_103',\n",
       " 'Q_104',\n",
       " 'Q_105',\n",
       " 'Q_106',\n",
       " 'Q_107',\n",
       " 'Q_108',\n",
       " 'Q_109',\n",
       " 'Q_110',\n",
       " 'Q_111',\n",
       " 'Q_112',\n",
       " 'Q_113',\n",
       " 'Q_114',\n",
       " 'Q_115',\n",
       " 'Q_116',\n",
       " 'Q_117',\n",
       " 'Q_118',\n",
       " 'Q_119',\n",
       " 'Q_120',\n",
       " 'Q_121',\n",
       " 'Q_122',\n",
       " 'Q_123',\n",
       " 'Q_124',\n",
       " 'Q_125',\n",
       " 'Q_126',\n",
       " 'Q_127',\n",
       " 'Q_128',\n",
       " 'Q_129',\n",
       " 'Q_130',\n",
       " 'Q_131',\n",
       " 'Q_132',\n",
       " 'Q_133',\n",
       " 'Q_134',\n",
       " 'Q_135',\n",
       " 'Q_136',\n",
       " 'Q_137',\n",
       " 'Q_138',\n",
       " 'Q_139',\n",
       " 'Q_140',\n",
       " 'Q_141',\n",
       " 'Q_142',\n",
       " 'Q_143',\n",
       " 'Q_144',\n",
       " 'Q_145',\n",
       " 'Q_146',\n",
       " 'Q_147',\n",
       " 'Q_148',\n",
       " 'Q_149',\n",
       " 'Q_150',\n",
       " 'Q_151',\n",
       " 'Q_152',\n",
       " 'Q_153',\n",
       " 'Q_154',\n",
       " 'Q_155',\n",
       " 'Q_156',\n",
       " 'Q_157',\n",
       " 'Q_158',\n",
       " 'Q_159',\n",
       " 'Q_160',\n",
       " 'Q_161',\n",
       " 'Q_162',\n",
       " 'Q_163',\n",
       " 'Q_164',\n",
       " 'Q_165',\n",
       " 'Q_166',\n",
       " 'Q_167',\n",
       " 'Q_168',\n",
       " 'Q_169',\n",
       " 'Q_170',\n",
       " 'Q_171',\n",
       " 'Q_172',\n",
       " 'Q_173',\n",
       " 'Q_174',\n",
       " 'Q_175',\n",
       " 'Q_176',\n",
       " 'Q_177',\n",
       " 'Q_178',\n",
       " 'Q_179',\n",
       " 'Q_180',\n",
       " 'Q_181',\n",
       " 'Q_182',\n",
       " 'Q_183',\n",
       " 'Q_184',\n",
       " 'Q_185',\n",
       " 'Q_186',\n",
       " 'Q_187',\n",
       " 'Q_188',\n",
       " 'Q_189',\n",
       " 'Q_190',\n",
       " 'Q_191',\n",
       " 'Q_192',\n",
       " 'Q_193',\n",
       " 'Q_194',\n",
       " 'Q_195',\n",
       " 'Q_196',\n",
       " 'Q_197',\n",
       " 'Q_198',\n",
       " 'Q_199',\n",
       " 'Q_200',\n",
       " 'Q_201',\n",
       " 'Q_202',\n",
       " 'Q_203',\n",
       " 'Q_204',\n",
       " 'Q_205',\n",
       " 'Q_206',\n",
       " 'Q_207',\n",
       " 'Q_208',\n",
       " 'Q_209',\n",
       " 'Q_210',\n",
       " 'Q_211',\n",
       " 'Q_212',\n",
       " 'Q_213',\n",
       " 'Q_214',\n",
       " 'Q_215',\n",
       " 'Q_216',\n",
       " 'Q_217',\n",
       " 'Q_218',\n",
       " 'Q_219',\n",
       " 'Q_220',\n",
       " 'Q_221',\n",
       " 'Q_222',\n",
       " 'Q_223',\n",
       " 'Q_224',\n",
       " 'Q_225',\n",
       " 'Q_226',\n",
       " 'Q_227',\n",
       " 'Q_228',\n",
       " 'Q_229',\n",
       " 'Q_230',\n",
       " 'Q_231',\n",
       " 'Q_232',\n",
       " 'Q_233',\n",
       " 'Q_234',\n",
       " 'Q_235',\n",
       " 'Q_236',\n",
       " 'Q_237',\n",
       " 'Q_238',\n",
       " 'Q_239',\n",
       " 'Q_240',\n",
       " 'Q_241',\n",
       " 'Q_242',\n",
       " 'Q_243',\n",
       " 'Q_244',\n",
       " 'Q_245',\n",
       " 'Q_246',\n",
       " 'Q_247',\n",
       " 'Q_248',\n",
       " 'Q_249',\n",
       " 'Q_250',\n",
       " 'Q_251',\n",
       " 'Q_252',\n",
       " 'Q_253',\n",
       " 'Q_254',\n",
       " 'Q_255',\n",
       " 'Q_256',\n",
       " 'Q_257',\n",
       " 'Q_258',\n",
       " 'Q_259',\n",
       " 'Q_260',\n",
       " 'Q_261',\n",
       " 'Q_262',\n",
       " 'Q_263',\n",
       " 'Q_264',\n",
       " 'Q_265',\n",
       " 'Q_266',\n",
       " 'Q_267',\n",
       " 'Q_268',\n",
       " 'Q_269',\n",
       " 'Q_270',\n",
       " 'Q_271',\n",
       " 'Q_272',\n",
       " 'Q_273',\n",
       " 'Q_274',\n",
       " 'Q_275',\n",
       " 'Q_276',\n",
       " 'Q_277',\n",
       " 'Q_278',\n",
       " 'Q_279',\n",
       " 'Q_280',\n",
       " 'Q_281',\n",
       " 'Q_282',\n",
       " 'Q_283',\n",
       " 'Q_284',\n",
       " 'Q_285',\n",
       " 'Q_286',\n",
       " 'Q_287',\n",
       " 'Q_288',\n",
       " 'Q_289',\n",
       " 'Q_290',\n",
       " 'Q_291',\n",
       " 'Q_292',\n",
       " 'Q_293',\n",
       " 'Q_294',\n",
       " 'Q_295',\n",
       " 'Q_296',\n",
       " 'Q_297',\n",
       " 'Q_298',\n",
       " 'Q_299',\n",
       " 'Q_300']"
      ]
     },
     "execution_count": 11,
     "metadata": {},
     "output_type": "execute_result"
    }
   ],
   "source": [
    "list_q"
   ]
  },
  {
   "cell_type": "code",
   "execution_count": 12,
   "metadata": {},
   "outputs": [],
   "source": [
    "# df_qd"
   ]
  },
  {
   "cell_type": "markdown",
   "metadata": {},
   "source": [
    "# Read the Responses"
   ]
  },
  {
   "cell_type": "markdown",
   "metadata": {},
   "source": [
    "We load responses of all respondents.\n",
    "\n",
    "We remove the ones in which there is at least one missing repsonse (dropna)\n"
   ]
  },
  {
   "cell_type": "code",
   "execution_count": 13,
   "metadata": {},
   "outputs": [],
   "source": [
    "path_read = os.path.join(os.pardir,'data_filter')\n",
    "fname_read = 'df_filter_IPIP%d.csv'%(Q)\n",
    "filename = os.path.join(path_read,fname_read)\n",
    "df_pq = pd.read_csv(filename,usecols=list_q).dropna(how='any',axis=0)\n",
    "## r"
   ]
  },
  {
   "cell_type": "code",
   "execution_count": 15,
   "metadata": {},
   "outputs": [],
   "source": [
    "# df_pq"
   ]
  },
  {
   "cell_type": "code",
   "execution_count": null,
   "metadata": {
    "collapsed": true
   },
   "outputs": [],
   "source": []
  },
  {
   "cell_type": "markdown",
   "metadata": {},
   "source": [
    "# Factor analysis"
   ]
  },
  {
   "cell_type": "markdown",
   "metadata": {},
   "source": [
    "We perform factor analysis using the varimax rotation"
   ]
  },
  {
   "cell_type": "code",
   "execution_count": 16,
   "metadata": {
    "collapsed": true
   },
   "outputs": [],
   "source": []
  },
  {
   "cell_type": "code",
   "execution_count": 18,
   "metadata": {
    "collapsed": true
   },
   "outputs": [],
   "source": [
    "marker_varimax = True ## whether to do varimax rotation or not\n",
    "arr_x = np.array(df_pq) ## transofrm dataframe into a numpy array\n",
    "result_fa = rotated_scaled_fa(n_comp, arr_x,varimax_=marker_varimax)\n",
    "\n",
    "## factor loadings\n",
    "arr_qd = result_fa[0] ## questbion-dimension-data\n",
    "## factor scores\n",
    "arr_pd = result_fa[1] ## person-dimension-data"
   ]
  },
  {
   "cell_type": "code",
   "execution_count": null,
   "metadata": {
    "collapsed": true
   },
   "outputs": [],
   "source": []
  },
  {
   "cell_type": "markdown",
   "metadata": {
    "collapsed": true
   },
   "source": [
    "# Organize the factor-loadings\n",
    "\n",
    "We order questions from the same domain, affecting the factor loading matrix\n",
    "\n",
    "We order the factors such that they will correspond to NEOAC affecting both the factor loading and the factor score matrix."
   ]
  },
  {
   "cell_type": "code",
   "execution_count": null,
   "metadata": {
    "collapsed": true
   },
   "outputs": [],
   "source": []
  },
  {
   "cell_type": "code",
   "execution_count": 25,
   "metadata": {},
   "outputs": [],
   "source": [
    "## sort the questions\n",
    "ind_sort = []\n",
    "for d in list_doms:\n",
    "    inds_tmp = list(np.where( np.abs(np.array(df_qd[d]))==1. )[0])\n",
    "    np.random.shuffle(inds_tmp)\n",
    "    ind_sort += inds_tmp\n",
    "    \n",
    "## sort the factors\n",
    "arr_qd_sort = 0.0*arr_qd\n",
    "arr_pd_sort = 0.0*arr_pd\n",
    "\n",
    "for i_d,d in enumerate(list_doms):\n",
    "    ## select only the questions related to domain\n",
    "    inds_d = list(np.where( np.abs(np.array(df_qd[d]))==1. )[0])\n",
    "    arr_qd_d = arr_qd[inds_d,:]\n",
    "    H = np.mean(arr_qd_d,axis=0)\n",
    "    indmax_d = np.argmax(np.abs(H))\n",
    "    sign_d = np.sign(H[indmax_d])\n",
    "    arr_qd_sort[:,i_d]=sign_d*arr_qd[:,indmax_d]\n",
    "    arr_pd_sort[:,i_d] = sign_d*arr_pd[:,indmax_d]    \n",
    "    \n",
    "arr_qd = 1.0*arr_qd_sort\n",
    "arr_pd = 1.0*arr_pd_sort"
   ]
  },
  {
   "cell_type": "code",
   "execution_count": 26,
   "metadata": {},
   "outputs": [
    {
     "data": {
      "text/plain": [
       "<matplotlib.colorbar.Colorbar at 0x7fb8053914a8>"
      ]
     },
     "execution_count": 26,
     "metadata": {},
     "output_type": "execute_result"
    },
    {
     "data": {
      "image/png": "[encoded data removed]",
      "text/plain": [
       "<matplotlib.figure.Figure at 0x7fb805449eb8>"
      ]
     },
     "metadata": {},
     "output_type": "display_data"
    }
   ],
   "source": [
    "## plotting the factor loadings\n",
    "cm=get_cmap('coolwarm')\n",
    "plt.imshow(arr_qd[ind_sort],aspect='auto',vmin=-1,vmax=1,cmap=cm)\n",
    "plt.colorbar()"
   ]
  },
  {
   "cell_type": "code",
   "execution_count": null,
   "metadata": {},
   "outputs": [],
   "source": []
  },
  {
   "cell_type": "markdown",
   "metadata": {},
   "source": [
    "# Save the result\n",
    "\n",
    "we save the result as npy-arrays"
   ]
  },
  {
   "cell_type": "code",
   "execution_count": 27,
   "metadata": {
    "collapsed": true
   },
   "outputs": [],
   "source": [
    "arr_qd_neoac = arr_qd[ind_sort]\n",
    "\n",
    "# ## save the scores of questions (loadings)\n",
    "path_save = os.path.join(src_dir,os.pardir,'data_filter')\n",
    "fname_save = 'ipip%s-no0_arr_qd_neoac_score-1.npy'%(Q)\n",
    "filename_save = os.path.join(path_save,fname_save)\n",
    "np.save(filename_save,arr_qd_neoac)"
   ]
  },
  {
   "cell_type": "code",
   "execution_count": 28,
   "metadata": {
    "collapsed": true
   },
   "outputs": [],
   "source": [
    "arr_pd_neoac = 1.0*arr_pd\n",
    "path_save = os.path.join(src_dir,os.pardir,'data_filter')\n",
    "fname_save = 'ipip%s-no0_arr_pd_neoac_score-1.npy'%(Q)\n",
    "filename_save = os.path.join(path_save,fname_save)\n",
    "np.save(filename_save,arr_pd_neoac)"
   ]
  },
  {
   "cell_type": "code",
   "execution_count": null,
   "metadata": {
    "collapsed": true
   },
   "outputs": [],
   "source": []
  },
  {
   "cell_type": "code",
   "execution_count": null,
   "metadata": {
    "collapsed": true
   },
   "outputs": [],
   "source": []
  },
  {
   "cell_type": "code",
   "execution_count": null,
   "metadata": {
    "collapsed": true
   },
   "outputs": [],
   "source": []
  }
 ],
 "metadata": {
  "kernelspec": {
   "display_name": "Python 3",
   "language": "python",
   "name": "python3"
  },
  "language_info": {
   "codemirror_mode": {
    "name": "ipython",
    "version": 3
   },
   "file_extension": ".py",
   "mimetype": "text/x-python",
   "name": "python",
   "nbconvert_exporter": "python",
   "pygments_lexer": "ipython3",
   "version": "3.6.1"
  }
 },
 "nbformat": 4,
 "nbformat_minor": 1
}
