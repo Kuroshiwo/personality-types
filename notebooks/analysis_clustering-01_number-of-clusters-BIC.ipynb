{
 "cells": [
  {
   "cell_type": "markdown",
   "metadata": {},
   "source": [
    "We fit a gaussian mixture model to the factor scores of all individuals trying to find the best number of clusters using the BIC"
   ]
  },
  {
   "cell_type": "code",
   "execution_count": 1,
   "metadata": {},
   "outputs": [],
   "source": [
    "%load_ext autoreload\n",
    "%autoreload 2\n",
    "\n",
    "import os, sys\n",
    "import pandas as pd\n",
    "import numpy as np\n",
    "import glob\n",
    "\n",
    "import pylab as plt\n",
    "from matplotlib.pyplot import get_cmap\n",
    "%matplotlib inline  \n",
    "\n",
    "src_dir = os.path.abspath(os.path.join(os.pardir,'src'))\n",
    "sys.path[0] = src_dir\n",
    "\n",
    "from analysis.cluster_density import gmm_kd\n",
    "from analysis.data_sample import get_subset"
   ]
  },
  {
   "cell_type": "markdown",
   "metadata": {},
   "source": [
    "# Load data and setup"
   ]
  },
  {
   "cell_type": "code",
   "execution_count": 2,
   "metadata": {
    "collapsed": true
   },
   "outputs": [],
   "source": [
    "# factor scores\n",
    "path_read = os.path.join(src_dir,os.pardir,'data_filter')\n",
    "fname_read = 'ipip300-no0_arr_pd_neoac_score-1.npy'\n",
    "filename = os.path.join(path_read,fname_read)\n",
    "arr_pd =  np.load(filename)\n",
    "\n",
    "# parameters for fitting\n",
    "n_rep = 10 # number of different initial conditions for optimization\n",
    "arr_Nc = np.arange(1,10,1) ## range of values for number of clusters\n",
    "\n",
    "# these are not needed but will be specified\n",
    "n_rep_kd = 0 # number of randomizations for estaimting density --> not needed here: 0\n",
    "bw = -1 # bandwidth for density estimation (-1, estimate from avg nearest-neighbor distance)\n",
    "N_samples = 0 # number of pairs of n.n. for estimating bandwidth --> not needed here:0\n"
   ]
  },
  {
   "cell_type": "code",
   "execution_count": 9,
   "metadata": {
    "collapsed": true
   },
   "outputs": [],
   "source": [
    "#####\n",
    "# z-score the data in each dimension\n",
    "#####\n",
    "N_,D_ = np.shape(arr_pd)\n",
    "for d in range(D_):\n",
    "    x_tmp = arr_pd[:,d]\n",
    "    x_mu = np.mean(x_tmp)\n",
    "    x_std = np.std(x_tmp)\n",
    "    arr_pd[:,d] = (x_tmp - x_mu)/x_std\n",
    "\n",
    "#####\n",
    "# get a random subset to reduce processing time\n",
    "# use line above if you want to fit the whole dataset\n",
    "#####\n",
    "\n",
    "# arr_x = 1.0*arr_pd#\n",
    "arr_x = get_subset(arr_pd,10000) \n"
   ]
  },
  {
   "cell_type": "markdown",
   "metadata": {
    "collapsed": true
   },
   "source": [
    "# Fit"
   ]
  },
  {
   "cell_type": "code",
   "execution_count": 10,
   "metadata": {},
   "outputs": [],
   "source": [
    "arr_BIC = 0.0*arr_Nc\n",
    "for i_Nc,Nc in enumerate(arr_Nc):\n",
    "    print(Nc)\n",
    "    ## fit the gmm\n",
    "    dict_result_tmp = gmm_kd(Nc,arr_x,n_rep,n_rep_kd, bw = bw, N_samples = N_samples)\n",
    "    ## get the BIC\n",
    "    arr_BIC[i_Nc] = dict_result_tmp['BIC']"
   ]
  },
  {
   "cell_type": "code",
   "execution_count": null,
   "metadata": {
    "collapsed": true
   },
   "outputs": [],
   "source": []
  },
  {
   "cell_type": "markdown",
   "metadata": {},
   "source": [
    "# Plot the result"
   ]
  },
  {
   "cell_type": "code",
   "execution_count": 11,
   "metadata": {},
   "outputs": [
    {
     "data": {
      "text/plain": [
       "<matplotlib.text.Text at 0x7f257263fef0>"
      ]
     },
     "execution_count": 11,
     "metadata": {},
     "output_type": "execute_result"
    },
    {
     "data": {
      "image/png": "[encoded data removed]",
      "text/plain": [
       "<matplotlib.figure.Figure at 0x7f2571d89278>"
      ]
     },
     "metadata": {},
     "output_type": "display_data"
    }
   ],
   "source": [
    "plt.plot(arr_Nc,arr_BIC,marker='o')\n",
    "plt.xlabel(r'Number of clusters, $N_c$')\n",
    "plt.ylabel('BIC')"
   ]
  },
  {
   "cell_type": "code",
   "execution_count": null,
   "metadata": {
    "collapsed": true
   },
   "outputs": [],
   "source": []
  }
 ],
 "metadata": {
  "kernelspec": {
   "display_name": "Python 3",
   "language": "python",
   "name": "python3"
  },
  "language_info": {
   "codemirror_mode": {
    "name": "ipython",
    "version": 3
   },
   "file_extension": ".py",
   "mimetype": "text/x-python",
   "name": "python",
   "nbconvert_exporter": "python",
   "pygments_lexer": "ipython3",
   "version": "3.6.6"
  }
 },
 "nbformat": 4,
 "nbformat_minor": 1
}
