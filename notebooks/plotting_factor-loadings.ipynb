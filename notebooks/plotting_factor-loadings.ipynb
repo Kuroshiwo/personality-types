{
 "cells": [
  {
   "cell_type": "code",
   "execution_count": 5,
   "metadata": {},
   "outputs": [
    {
     "name": "stdout",
     "output_type": "stream",
     "text": [
      "The autoreload extension is already loaded. To reload it, use:\n",
      "  %reload_ext autoreload\n"
     ]
    }
   ],
   "source": [
    "%load_ext autoreload\n",
    "%autoreload 2\n",
    "\n",
    "import os, sys\n",
    "import pandas as pd\n",
    "import numpy as np\n",
    "import glob\n",
    "\n",
    "\n",
    "import pylab as plt\n",
    "from matplotlib.pyplot import get_cmap\n",
    "%matplotlib inline  \n",
    "\n",
    "src_dir = os.path.abspath(os.path.join(os.pardir,'src'))\n",
    "sys.path[0] = src_dir\n",
    "\n",
    "pd.set_option(\"display.max_rows\",10)"
   ]
  },
  {
   "cell_type": "code",
   "execution_count": null,
   "metadata": {
    "collapsed": true
   },
   "outputs": [],
   "source": []
  },
  {
   "cell_type": "markdown",
   "metadata": {},
   "source": [
    "# Setup"
   ]
  },
  {
   "cell_type": "code",
   "execution_count": 6,
   "metadata": {},
   "outputs": [
    {
     "name": "stderr",
     "output_type": "stream",
     "text": [
      "/home/martin/anaconda3/lib/python3.6/site-packages/matplotlib/__init__.py:913: UserWarning: text.fontsize is deprecated and replaced with font.size; please use the latter.\n",
      "  warnings.warn(self.msg_depr % (key, alt_key))\n"
     ]
    }
   ],
   "source": [
    "###########\n",
    "## Setup ##\n",
    "###########\n",
    "# number of pt for column in latex-document\n",
    "fig_width_pt = 200  # single-column:510, double-column: 246; Get this from LaTeX using \\showthe\\columnwidth\n",
    "inches_per_pt = 1.1/72.27 # Convert pt to inches\n",
    "width_vs_height = 1. # Ratio of height/width [(np.sqrt(5)-1.0)/2.0]\n",
    "fig_width = fig_width_pt*inches_per_pt  # width in inches\n",
    "fig_height = width_vs_height*fig_width  # height in inches\n",
    "Ampl =1.8 # Amplification factor for screen: set this to ONE for final plot of eps\n",
    "fig_size = [fig_width,fig_height]\n",
    "\n",
    "# here you can set the parameters of the plot (fontsizes,...) in pt\n",
    "params = {'backend': 'ps',\n",
    "          'axes.labelsize': Ampl*10,\n",
    "          'text.fontsize': Ampl*8,\n",
    "          'legend.fontsize': Ampl*6,\n",
    "          'xtick.labelsize': Ampl*8,\n",
    "          'ytick.labelsize': Ampl*8,\n",
    "          'text.usetex': True,\n",
    "          'ps.usedistiller' : 'xpdf',\n",
    "          'figure.figsize': fig_size,\n",
    "          #'figtext.fontsize': Ampl*10,\n",
    "          'text.latex.unicode':True,\n",
    "          'text.latex.preamble': [r'\\usepackage{bm}'],\n",
    "          'xtick.direction':'out',\n",
    "          'ytick.direction':'out'\n",
    "         }\n",
    "plt.rcParams.update(params)\n",
    "\n",
    "x_bottom = 0.0\n",
    "x_left = 0.2\n",
    "x_right = 0.95\n",
    "x_top = 0.8\n",
    "x_h=0.15\n",
    "x_w=0.2"
   ]
  },
  {
   "cell_type": "markdown",
   "metadata": {},
   "source": [
    "# Plot"
   ]
  },
  {
   "cell_type": "code",
   "execution_count": 7,
   "metadata": {
    "collapsed": true
   },
   "outputs": [],
   "source": [
    "\n",
    "list_doms = ['N','E','O','A','C']\n",
    "list_doms_labels = list_doms\n",
    "\n",
    "fname_data = 'ipip300-no0_arr_qd_neoac_score-1.npy'\n",
    "path_read = '../data_filter/'\n",
    "filename= os.path.join(path_read,fname_data)\n",
    "label = fname_data.split('.')\n",
    "\n",
    "vmin=-1.\n",
    "vmax=1.\n",
    "cmapname = 'PuOr_r'\n",
    "\n"
   ]
  },
  {
   "cell_type": "code",
   "execution_count": 8,
   "metadata": {},
   "outputs": [
    {
     "data": {
      "image/png": "[encoded data removed]",
      "text/plain": [
       "<matplotlib.figure.Figure at 0x7f45439e1ac8>"
      ]
     },
     "metadata": {},
     "output_type": "display_data"
    }
   ],
   "source": [
    "\n",
    "#########################################################\n",
    "### Load question-loadings\n",
    "\n",
    "arr_qd = np.load(filename)\n",
    "Q,n_dim = np.shape(arr_qd)\n",
    "\n",
    "arr_z = arr_qd\n",
    "\n",
    "fig = plt.figure(figsize=fig_size)\n",
    "plt.clf()\n",
    "ax = fig.add_subplot(111)\n",
    "# plt.title('Dimension - ')\n",
    "im = ax.imshow(arr_z,vmin=vmin,vmax=vmax,cmap=get_cmap(cmapname),aspect='auto',interpolation='nearest')\n",
    "cbar = fig.colorbar(im,ticks=[-1,-0.5,0,0.5,1],orientation='horizontal',pad=0.02)\n",
    "\n",
    "\n",
    "ax.set_xlabel('Factor')\n",
    "ax.set_ylabel('Question')\n",
    "q_labels = list_doms\n",
    "list_yticks = np.arange(0,Q,Q/len(q_labels))  \n",
    "if fname_data[:3]=='bbc':\n",
    "    list_yticks = np.array([0,8,16,26,35])\n",
    "\n",
    "for y in list_yticks[1:]:\n",
    "    ax.plot([-0.5,n_dim-0.5],[y-0.5,y-0.5],lw=2,color='black')\n",
    "list_yticks = list_yticks + (list_yticks[1]-list_yticks[0])/2\n",
    "ax.set_yticks(list_yticks)\n",
    "ax.set_yticklabels(q_labels)\n",
    "ax.tick_params(axis='y',width=0)\n",
    "\n",
    "ax.set_xticks( list(np.arange(5)) )\n",
    "ax.set_xticklabels(  list(np.arange(5)+1) )\n",
    "ax.xaxis.tick_top()\n",
    "ax.xaxis.set_label_position('top')\n",
    "\n",
    "\n",
    "\n",
    "plt.subplots_adjust(left=x_left,bottom=x_bottom,right=x_right,top=x_top,hspace=x_h,wspace=x_w)\n"
   ]
  }
 ],
 "metadata": {
  "kernelspec": {
   "display_name": "Python 3",
   "language": "python",
   "name": "python3"
  },
  "language_info": {
   "codemirror_mode": {
    "name": "ipython",
    "version": 3
   },
   "file_extension": ".py",
   "mimetype": "text/x-python",
   "name": "python",
   "nbconvert_exporter": "python",
   "pygments_lexer": "ipython3",
   "version": "3.6.1"
  }
 },
 "nbformat": 4,
 "nbformat_minor": 1
}
